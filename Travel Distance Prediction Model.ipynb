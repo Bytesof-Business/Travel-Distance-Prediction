{
 "cells": [
  {
   "cell_type": "code",
   "execution_count": 1,
   "id": "6ccc8db1-dedc-4172-9165-030519bc50c1",
   "metadata": {},
   "outputs": [],
   "source": [
    "import pandas as pd\n",
    "import numpy as np\n",
    "import matplotlib.pyplot as plt\n",
    "import random\n"
   ]
  },
  {
   "cell_type": "code",
   "execution_count": 2,
   "id": "449f13a3-f427-447c-b6fa-fd89473d9911",
   "metadata": {},
   "outputs": [],
   "source": [
    "cities = [\"Agra\",\"Kanpur\",\"Udaipur\",\"Jaipur\",\"Gurugram\",\"Noida\",\"Delhi\",\"Lucknow\",\"Prayagraj\",\"Ahemdabad\",\"Mumbai\",\"Pune\",\"Barelly\",\"Chennai\",\"Bengaluru\",\"Kolkata\",\"Hyedrabad\",\"Varanasi\",\"Jodhpur\",\"Chandigarh\",\"Surat\",\"Shimla\",\"Shilong\",\"Srinagar\",\"Dehradun\",\"Bhopal\",\"Nagpur\",\"Gantok\",\"Puducherry\",\"Thiruvananthapuram\",\"Vadodara\",\"Jhasi\",\"Ajmer\",\"Bikaner\",\"Mysuru\",\"Kochi\",\"Madurai\",\"Thane\",\"Indore\",\"Visakhspatnam\",\"Patna\",\"Ghaziabad\",\"Ludhiana\",\"Nashik\",\"Faridabad\",\"Meerut\",\"Rajkot\",\"Dhanbad\",\"Ranchi\",\"Gwalior\"]\n",
    "data = []\n",
    "for _ in range(1225):\n",
    "    origin = random.choice(cities)\n",
    "    destination = random.choice([city for city in cities if city != origin])\n",
    "    time = round(random.uniform(1,10),2)\n",
    "    distance = round(time * random.uniform(50,100),2)\n",
    "    data.append([origin, destination, time, distance])"
   ]
  },
  {
   "cell_type": "code",
   "execution_count": 3,
   "id": "32c687b6-eeca-44b0-a6d9-030f518a5045",
   "metadata": {},
   "outputs": [],
   "source": [
    "data = pd.DataFrame(data, columns=[\"Origin\",\"Destination\",\"Time(H)\",\"Distance(km)\"])"
   ]
  },
  {
   "cell_type": "code",
   "execution_count": 4,
   "id": "bde5d80a-0f95-4b48-8671-bbdc0be9cffb",
   "metadata": {},
   "outputs": [],
   "source": [
    "output = \"D:/Google Map T and D_1225.xlsx\""
   ]
  },
  {
   "cell_type": "code",
   "execution_count": 5,
   "id": "a110855c-ddcf-4d2f-ac0d-d6ed3a2493d7",
   "metadata": {},
   "outputs": [],
   "source": [
    "data.to_excel(output, index=False)"
   ]
  },
  {
   "cell_type": "code",
   "execution_count": 6,
   "id": "e787d468-15d3-442d-9817-c0f66195e5b7",
   "metadata": {},
   "outputs": [
    {
     "data": {
      "text/plain": [
       "'D:/Google Map T and D_1225.xlsx'"
      ]
     },
     "execution_count": 6,
     "metadata": {},
     "output_type": "execute_result"
    }
   ],
   "source": [
    "output"
   ]
  },
  {
   "cell_type": "code",
   "execution_count": 7,
   "id": "602053e5-0598-4071-9cc8-38adace79bca",
   "metadata": {},
   "outputs": [
    {
     "data": {
      "text/html": [
       "<div>\n",
       "<style scoped>\n",
       "    .dataframe tbody tr th:only-of-type {\n",
       "        vertical-align: middle;\n",
       "    }\n",
       "\n",
       "    .dataframe tbody tr th {\n",
       "        vertical-align: top;\n",
       "    }\n",
       "\n",
       "    .dataframe thead th {\n",
       "        text-align: right;\n",
       "    }\n",
       "</style>\n",
       "<table border=\"1\" class=\"dataframe\">\n",
       "  <thead>\n",
       "    <tr style=\"text-align: right;\">\n",
       "      <th></th>\n",
       "      <th>Origin</th>\n",
       "      <th>Destination</th>\n",
       "      <th>Time(H)</th>\n",
       "      <th>Distance(km)</th>\n",
       "    </tr>\n",
       "  </thead>\n",
       "  <tbody>\n",
       "    <tr>\n",
       "      <th>0</th>\n",
       "      <td>Faridabad</td>\n",
       "      <td>Kanpur</td>\n",
       "      <td>4.50</td>\n",
       "      <td>252.17</td>\n",
       "    </tr>\n",
       "    <tr>\n",
       "      <th>1</th>\n",
       "      <td>Jhasi</td>\n",
       "      <td>Kolkata</td>\n",
       "      <td>2.67</td>\n",
       "      <td>192.25</td>\n",
       "    </tr>\n",
       "    <tr>\n",
       "      <th>2</th>\n",
       "      <td>Kanpur</td>\n",
       "      <td>Faridabad</td>\n",
       "      <td>9.74</td>\n",
       "      <td>860.04</td>\n",
       "    </tr>\n",
       "    <tr>\n",
       "      <th>3</th>\n",
       "      <td>Pune</td>\n",
       "      <td>Bikaner</td>\n",
       "      <td>3.91</td>\n",
       "      <td>308.41</td>\n",
       "    </tr>\n",
       "    <tr>\n",
       "      <th>4</th>\n",
       "      <td>Hyedrabad</td>\n",
       "      <td>Ludhiana</td>\n",
       "      <td>9.51</td>\n",
       "      <td>664.02</td>\n",
       "    </tr>\n",
       "  </tbody>\n",
       "</table>\n",
       "</div>"
      ],
      "text/plain": [
       "      Origin Destination  Time(H)  Distance(km)\n",
       "0  Faridabad      Kanpur     4.50        252.17\n",
       "1      Jhasi     Kolkata     2.67        192.25\n",
       "2     Kanpur   Faridabad     9.74        860.04\n",
       "3       Pune     Bikaner     3.91        308.41\n",
       "4  Hyedrabad    Ludhiana     9.51        664.02"
      ]
     },
     "execution_count": 7,
     "metadata": {},
     "output_type": "execute_result"
    }
   ],
   "source": [
    "data.head()"
   ]
  },
  {
   "cell_type": "code",
   "execution_count": 9,
   "id": "df991343-f435-4e4a-bf50-afa2f728629c",
   "metadata": {},
   "outputs": [
    {
     "data": {
      "text/plain": [
       "Origin          0\n",
       "Destination     0\n",
       "Time(H)         0\n",
       "Distance(km)    0\n",
       "dtype: int64"
      ]
     },
     "execution_count": 9,
     "metadata": {},
     "output_type": "execute_result"
    }
   ],
   "source": [
    "data.isnull().sum() "
   ]
  },
  {
   "cell_type": "code",
   "execution_count": 12,
   "id": "6d326931-006c-4dd1-b0cb-a0ce52214e9c",
   "metadata": {},
   "outputs": [
    {
     "name": "stdout",
     "output_type": "stream",
     "text": [
      "Number of rows: 1225 (Total number of cities)\n",
      "Number of columns: 4 (Given Features)\n"
     ]
    }
   ],
   "source": [
    "# Checking the number of rows and columns  \n",
    "num_rows, num_columns = data.shape  \n",
    "print(f\"Number of rows: {num_rows} (Total number of cities)\\nNumber of columns: {num_columns} (Given Features)\")  "
   ]
  },
  {
   "cell_type": "code",
   "execution_count": 13,
   "id": "4b1a6088-1a0f-49f8-a88e-6e8ebeda2dac",
   "metadata": {},
   "outputs": [
    {
     "data": {
      "text/plain": [
       "74.62999900431647"
      ]
     },
     "execution_count": 13,
     "metadata": {},
     "output_type": "execute_result"
    }
   ],
   "source": [
    "#let, Time as x\n",
    "#let, Distance as y\n",
    "\n",
    "beta_1,beta_0 = np.polyfit(data[\"Time(H)\"],data[\"Distance(km)\"],1)\n",
    "beta_1"
   ]
  },
  {
   "cell_type": "code",
   "execution_count": 14,
   "id": "4e0b214d-f185-45c5-9ed5-08c491c9b8bf",
   "metadata": {},
   "outputs": [
    {
     "data": {
      "text/plain": [
       "0.7432920470761021"
      ]
     },
     "execution_count": 14,
     "metadata": {},
     "output_type": "execute_result"
    }
   ],
   "source": [
    "beta_0"
   ]
  },
  {
   "cell_type": "code",
   "execution_count": 15,
   "id": "ee2a8058-e679-477b-ab1c-147e2b6526fc",
   "metadata": {},
   "outputs": [
    {
     "data": {
      "image/png": "[encoded data removed]",
      "text/plain": [
       "<Figure size 640x480 with 1 Axes>"
      ]
     },
     "metadata": {},
     "output_type": "display_data"
    }
   ],
   "source": [
    "plt.scatter(data[\"Time(H)\"],data[\"Distance(km)\"],color=\"blue\")\n",
    "plt.plot(data[\"Time(H)\"],-4.9 + 75.57 * data[\"Time(H)\"],color=\"red\",linestyle=\"-\",linewidth=2)\n",
    "plt.show()"
   ]
  },
  {
   "cell_type": "code",
   "execution_count": 16,
   "id": "55ecdd33-fabb-4845-b167-c3d5a361643d",
   "metadata": {},
   "outputs": [
    {
     "data": {
      "text/html": [
       "<div>\n",
       "<style scoped>\n",
       "    .dataframe tbody tr th:only-of-type {\n",
       "        vertical-align: middle;\n",
       "    }\n",
       "\n",
       "    .dataframe tbody tr th {\n",
       "        vertical-align: top;\n",
       "    }\n",
       "\n",
       "    .dataframe thead th {\n",
       "        text-align: right;\n",
       "    }\n",
       "</style>\n",
       "<table border=\"1\" class=\"dataframe\">\n",
       "  <thead>\n",
       "    <tr style=\"text-align: right;\">\n",
       "      <th></th>\n",
       "      <th>Origin</th>\n",
       "      <th>Destination</th>\n",
       "      <th>Time(H)</th>\n",
       "      <th>Distance(km)</th>\n",
       "      <th>Predicted_Distance</th>\n",
       "      <th>Error</th>\n",
       "      <th>Rel_Error</th>\n",
       "      <th>abs</th>\n",
       "    </tr>\n",
       "  </thead>\n",
       "  <tbody>\n",
       "    <tr>\n",
       "      <th>0</th>\n",
       "      <td>Faridabad</td>\n",
       "      <td>Kanpur</td>\n",
       "      <td>4.50</td>\n",
       "      <td>252.17</td>\n",
       "      <td>336.578288</td>\n",
       "      <td>-84.408288</td>\n",
       "      <td>-0.334728</td>\n",
       "      <td>0.334728</td>\n",
       "    </tr>\n",
       "    <tr>\n",
       "      <th>1</th>\n",
       "      <td>Jhasi</td>\n",
       "      <td>Kolkata</td>\n",
       "      <td>2.67</td>\n",
       "      <td>192.25</td>\n",
       "      <td>200.005389</td>\n",
       "      <td>-7.755389</td>\n",
       "      <td>-0.040340</td>\n",
       "      <td>0.040340</td>\n",
       "    </tr>\n",
       "    <tr>\n",
       "      <th>2</th>\n",
       "      <td>Kanpur</td>\n",
       "      <td>Faridabad</td>\n",
       "      <td>9.74</td>\n",
       "      <td>860.04</td>\n",
       "      <td>727.639482</td>\n",
       "      <td>132.400518</td>\n",
       "      <td>0.153947</td>\n",
       "      <td>0.153947</td>\n",
       "    </tr>\n",
       "    <tr>\n",
       "      <th>3</th>\n",
       "      <td>Pune</td>\n",
       "      <td>Bikaner</td>\n",
       "      <td>3.91</td>\n",
       "      <td>308.41</td>\n",
       "      <td>292.546588</td>\n",
       "      <td>15.863412</td>\n",
       "      <td>0.051436</td>\n",
       "      <td>0.051436</td>\n",
       "    </tr>\n",
       "    <tr>\n",
       "      <th>4</th>\n",
       "      <td>Hyedrabad</td>\n",
       "      <td>Ludhiana</td>\n",
       "      <td>9.51</td>\n",
       "      <td>664.02</td>\n",
       "      <td>710.474583</td>\n",
       "      <td>-46.454583</td>\n",
       "      <td>-0.069960</td>\n",
       "      <td>0.069960</td>\n",
       "    </tr>\n",
       "  </tbody>\n",
       "</table>\n",
       "</div>"
      ],
      "text/plain": [
       "      Origin Destination  Time(H)  Distance(km)  Predicted_Distance  \\\n",
       "0  Faridabad      Kanpur     4.50        252.17          336.578288   \n",
       "1      Jhasi     Kolkata     2.67        192.25          200.005389   \n",
       "2     Kanpur   Faridabad     9.74        860.04          727.639482   \n",
       "3       Pune     Bikaner     3.91        308.41          292.546588   \n",
       "4  Hyedrabad    Ludhiana     9.51        664.02          710.474583   \n",
       "\n",
       "        Error  Rel_Error       abs  \n",
       "0  -84.408288  -0.334728  0.334728  \n",
       "1   -7.755389  -0.040340  0.040340  \n",
       "2  132.400518   0.153947  0.153947  \n",
       "3   15.863412   0.051436  0.051436  \n",
       "4  -46.454583  -0.069960  0.069960  "
      ]
     },
     "execution_count": 16,
     "metadata": {},
     "output_type": "execute_result"
    }
   ],
   "source": [
    "data[\"Predicted_Distance\"] = beta_0 + beta_1 * data[\"Time(H)\"]\n",
    "data[\"Error\"] = data[\"Distance(km)\"] - data[\"Predicted_Distance\"]\n",
    "data[\"Rel_Error\"] = data[\"Error\"] / data[\"Distance(km)\"]\n",
    "data[\"abs\"] = data[\"Rel_Error\"].abs()\n",
    "data.head()"
   ]
  },
  {
   "cell_type": "code",
   "execution_count": 17,
   "id": "a05e04c5-5645-474d-98b0-944fddb113e1",
   "metadata": {},
   "outputs": [
    {
     "data": {
      "text/plain": [
       "17.427068887296013"
      ]
     },
     "execution_count": 17,
     "metadata": {},
     "output_type": "execute_result"
    }
   ],
   "source": [
    "MAPE = data[\"abs\"].mean() * 100\n",
    "MAPE"
   ]
  },
  {
   "cell_type": "code",
   "execution_count": 18,
   "id": "c1fe8bd1-1a04-4d04-9e10-16274d64aad6",
   "metadata": {},
   "outputs": [
    {
     "data": {
      "text/plain": [
       "408.1030693877551"
      ]
     },
     "execution_count": 18,
     "metadata": {},
     "output_type": "execute_result"
    }
   ],
   "source": [
    "m = data[\"Distance(km)\"].mean()\n",
    "m"
   ]
  },
  {
   "cell_type": "code",
   "execution_count": 19,
   "id": "5b3d32a6-9a60-48c5-940d-b113ba53ca60",
   "metadata": {},
   "outputs": [
    {
     "data": {
      "text/html": [
       "<div>\n",
       "<style scoped>\n",
       "    .dataframe tbody tr th:only-of-type {\n",
       "        vertical-align: middle;\n",
       "    }\n",
       "\n",
       "    .dataframe tbody tr th {\n",
       "        vertical-align: top;\n",
       "    }\n",
       "\n",
       "    .dataframe thead th {\n",
       "        text-align: right;\n",
       "    }\n",
       "</style>\n",
       "<table border=\"1\" class=\"dataframe\">\n",
       "  <thead>\n",
       "    <tr style=\"text-align: right;\">\n",
       "      <th></th>\n",
       "      <th>Origin</th>\n",
       "      <th>Destination</th>\n",
       "      <th>Time(H)</th>\n",
       "      <th>Distance(km)</th>\n",
       "      <th>Predicted_Distance</th>\n",
       "      <th>Error</th>\n",
       "      <th>Rel_Error</th>\n",
       "      <th>abs</th>\n",
       "      <th>diff</th>\n",
       "      <th>diff_sq</th>\n",
       "      <th>diff1</th>\n",
       "      <th>diff1_sq</th>\n",
       "    </tr>\n",
       "  </thead>\n",
       "  <tbody>\n",
       "    <tr>\n",
       "      <th>0</th>\n",
       "      <td>Faridabad</td>\n",
       "      <td>Kanpur</td>\n",
       "      <td>4.50</td>\n",
       "      <td>252.17</td>\n",
       "      <td>336.578288</td>\n",
       "      <td>-84.408288</td>\n",
       "      <td>-0.334728</td>\n",
       "      <td>0.334728</td>\n",
       "      <td>-155.933069</td>\n",
       "      <td>24315.122129</td>\n",
       "      <td>-84.408288</td>\n",
       "      <td>7124.759010</td>\n",
       "    </tr>\n",
       "    <tr>\n",
       "      <th>1</th>\n",
       "      <td>Jhasi</td>\n",
       "      <td>Kolkata</td>\n",
       "      <td>2.67</td>\n",
       "      <td>192.25</td>\n",
       "      <td>200.005389</td>\n",
       "      <td>-7.755389</td>\n",
       "      <td>-0.040340</td>\n",
       "      <td>0.040340</td>\n",
       "      <td>-215.853069</td>\n",
       "      <td>46592.547564</td>\n",
       "      <td>-7.755389</td>\n",
       "      <td>60.146065</td>\n",
       "    </tr>\n",
       "    <tr>\n",
       "      <th>2</th>\n",
       "      <td>Kanpur</td>\n",
       "      <td>Faridabad</td>\n",
       "      <td>9.74</td>\n",
       "      <td>860.04</td>\n",
       "      <td>727.639482</td>\n",
       "      <td>132.400518</td>\n",
       "      <td>0.153947</td>\n",
       "      <td>0.153947</td>\n",
       "      <td>451.936931</td>\n",
       "      <td>204246.989251</td>\n",
       "      <td>132.400518</td>\n",
       "      <td>17529.897074</td>\n",
       "    </tr>\n",
       "    <tr>\n",
       "      <th>3</th>\n",
       "      <td>Pune</td>\n",
       "      <td>Bikaner</td>\n",
       "      <td>3.91</td>\n",
       "      <td>308.41</td>\n",
       "      <td>292.546588</td>\n",
       "      <td>15.863412</td>\n",
       "      <td>0.051436</td>\n",
       "      <td>0.051436</td>\n",
       "      <td>-99.693069</td>\n",
       "      <td>9938.708084</td>\n",
       "      <td>15.863412</td>\n",
       "      <td>251.647835</td>\n",
       "    </tr>\n",
       "    <tr>\n",
       "      <th>4</th>\n",
       "      <td>Hyedrabad</td>\n",
       "      <td>Ludhiana</td>\n",
       "      <td>9.51</td>\n",
       "      <td>664.02</td>\n",
       "      <td>710.474583</td>\n",
       "      <td>-46.454583</td>\n",
       "      <td>-0.069960</td>\n",
       "      <td>0.069960</td>\n",
       "      <td>255.916931</td>\n",
       "      <td>65493.475374</td>\n",
       "      <td>-46.454583</td>\n",
       "      <td>2158.028243</td>\n",
       "    </tr>\n",
       "  </tbody>\n",
       "</table>\n",
       "</div>"
      ],
      "text/plain": [
       "      Origin Destination  Time(H)  Distance(km)  Predicted_Distance  \\\n",
       "0  Faridabad      Kanpur     4.50        252.17          336.578288   \n",
       "1      Jhasi     Kolkata     2.67        192.25          200.005389   \n",
       "2     Kanpur   Faridabad     9.74        860.04          727.639482   \n",
       "3       Pune     Bikaner     3.91        308.41          292.546588   \n",
       "4  Hyedrabad    Ludhiana     9.51        664.02          710.474583   \n",
       "\n",
       "        Error  Rel_Error       abs        diff        diff_sq       diff1  \\\n",
       "0  -84.408288  -0.334728  0.334728 -155.933069   24315.122129  -84.408288   \n",
       "1   -7.755389  -0.040340  0.040340 -215.853069   46592.547564   -7.755389   \n",
       "2  132.400518   0.153947  0.153947  451.936931  204246.989251  132.400518   \n",
       "3   15.863412   0.051436  0.051436  -99.693069    9938.708084   15.863412   \n",
       "4  -46.454583  -0.069960  0.069960  255.916931   65493.475374  -46.454583   \n",
       "\n",
       "       diff1_sq  \n",
       "0   7124.759010  \n",
       "1     60.146065  \n",
       "2  17529.897074  \n",
       "3    251.647835  \n",
       "4   2158.028243  "
      ]
     },
     "execution_count": 19,
     "metadata": {},
     "output_type": "execute_result"
    }
   ],
   "source": [
    "data['diff'] = data[\"Distance(km)\"] - m\n",
    "data['diff_sq'] = data['diff']*data['diff']\n",
    "data['diff1'] = data[\"Distance(km)\"] - data['Predicted_Distance']\n",
    "data['diff1_sq'] = data['diff1'] * data['diff1']\n",
    "data.head()"
   ]
  },
  {
   "cell_type": "code",
   "execution_count": 20,
   "id": "366a6feb-986a-424e-bcde-354a23750379",
   "metadata": {},
   "outputs": [
    {
     "data": {
      "text/plain": [
       "53957482.2620591"
      ]
     },
     "execution_count": 20,
     "metadata": {},
     "output_type": "execute_result"
    }
   ],
   "source": [
    "s1 = data['diff_sq'].sum()\n",
    "s1"
   ]
  },
  {
   "cell_type": "code",
   "execution_count": 21,
   "id": "e7e4eec7-c033-48ed-846e-71ad0766225f",
   "metadata": {},
   "outputs": [
    {
     "data": {
      "text/plain": [
       "9037322.947117133"
      ]
     },
     "execution_count": 21,
     "metadata": {},
     "output_type": "execute_result"
    }
   ],
   "source": [
    "s2 = data['diff1_sq'].sum()\n",
    "s2"
   ]
  },
  {
   "cell_type": "code",
   "execution_count": 22,
   "id": "8b778d65-e35d-4399-8dcb-09f4b4e35e12",
   "metadata": {},
   "outputs": [
    {
     "data": {
      "text/plain": [
       "0.8325102920253964"
      ]
     },
     "execution_count": 22,
     "metadata": {},
     "output_type": "execute_result"
    }
   ],
   "source": [
    "R2 = 1 - (s2/s1)\n",
    "R2"
   ]
  },
  {
   "cell_type": "markdown",
   "id": "bd1fcf41-02af-44f3-9e90-f613d7c0ff5c",
   "metadata": {},
   "source": [
    "# This indicates that 83.25% of the variance in the dependent variable is explained by the model.\n"
   ]
  },
  {
   "cell_type": "code",
   "execution_count": null,
   "id": "d771b657-a61c-4f06-9aab-cf8b1c0b9d97",
   "metadata": {},
   "outputs": [],
   "source": []
  },
  {
   "cell_type": "code",
   "execution_count": null,
   "id": "e4eac33a-574c-4ac7-b923-0c224c347193",
   "metadata": {},
   "outputs": [],
   "source": []
  },
  {
   "cell_type": "code",
   "execution_count": 23,
   "id": "a260a1ca-cd49-4b2c-ae7a-bc2f9d57e7ae",
   "metadata": {},
   "outputs": [
    {
     "ename": "FileNotFoundError",
     "evalue": "[Errno 2] No such file or directory: 'D:/cars_data_clean_CASE.csv'",
     "output_type": "error",
     "traceback": [
      "\u001b[1;31m---------------------------------------------------------------------------\u001b[0m",
      "\u001b[1;31mFileNotFoundError\u001b[0m                         Traceback (most recent call last)",
      "Cell \u001b[1;32mIn[23], line 5\u001b[0m\n\u001b[0;32m      3\u001b[0m \u001b[38;5;28;01mimport\u001b[39;00m \u001b[38;5;21;01mpandas\u001b[39;00m \u001b[38;5;28;01mas\u001b[39;00m \u001b[38;5;21;01mpd\u001b[39;00m\n\u001b[0;32m      4\u001b[0m \u001b[38;5;28;01mimport\u001b[39;00m \u001b[38;5;21;01mnumpy\u001b[39;00m \u001b[38;5;28;01mas\u001b[39;00m \u001b[38;5;21;01mnp\u001b[39;00m\n\u001b[1;32m----> 5\u001b[0m df\u001b[38;5;241m=\u001b[39mpd\u001b[38;5;241m.\u001b[39mread_csv(\u001b[38;5;124m\"\u001b[39m\u001b[38;5;124mD:/cars_data_clean_CASE.csv\u001b[39m\u001b[38;5;124m\"\u001b[39m)\n\u001b[0;32m      6\u001b[0m df\u001b[38;5;241m.\u001b[39mhead()\n",
      "File \u001b[1;32m~\\anaconda3\\Lib\\site-packages\\pandas\\io\\parsers\\readers.py:948\u001b[0m, in \u001b[0;36mread_csv\u001b[1;34m(filepath_or_buffer, sep, delimiter, header, names, index_col, usecols, dtype, engine, converters, true_values, false_values, skipinitialspace, skiprows, skipfooter, nrows, na_values, keep_default_na, na_filter, verbose, skip_blank_lines, parse_dates, infer_datetime_format, keep_date_col, date_parser, date_format, dayfirst, cache_dates, iterator, chunksize, compression, thousands, decimal, lineterminator, quotechar, quoting, doublequote, escapechar, comment, encoding, encoding_errors, dialect, on_bad_lines, delim_whitespace, low_memory, memory_map, float_precision, storage_options, dtype_backend)\u001b[0m\n\u001b[0;32m    935\u001b[0m kwds_defaults \u001b[38;5;241m=\u001b[39m _refine_defaults_read(\n\u001b[0;32m    936\u001b[0m     dialect,\n\u001b[0;32m    937\u001b[0m     delimiter,\n\u001b[1;32m   (...)\u001b[0m\n\u001b[0;32m    944\u001b[0m     dtype_backend\u001b[38;5;241m=\u001b[39mdtype_backend,\n\u001b[0;32m    945\u001b[0m )\n\u001b[0;32m    946\u001b[0m kwds\u001b[38;5;241m.\u001b[39mupdate(kwds_defaults)\n\u001b[1;32m--> 948\u001b[0m \u001b[38;5;28;01mreturn\u001b[39;00m _read(filepath_or_buffer, kwds)\n",
      "File \u001b[1;32m~\\anaconda3\\Lib\\site-packages\\pandas\\io\\parsers\\readers.py:611\u001b[0m, in \u001b[0;36m_read\u001b[1;34m(filepath_or_buffer, kwds)\u001b[0m\n\u001b[0;32m    608\u001b[0m _validate_names(kwds\u001b[38;5;241m.\u001b[39mget(\u001b[38;5;124m\"\u001b[39m\u001b[38;5;124mnames\u001b[39m\u001b[38;5;124m\"\u001b[39m, \u001b[38;5;28;01mNone\u001b[39;00m))\n\u001b[0;32m    610\u001b[0m \u001b[38;5;66;03m# Create the parser.\u001b[39;00m\n\u001b[1;32m--> 611\u001b[0m parser \u001b[38;5;241m=\u001b[39m TextFileReader(filepath_or_buffer, \u001b[38;5;241m*\u001b[39m\u001b[38;5;241m*\u001b[39mkwds)\n\u001b[0;32m    613\u001b[0m \u001b[38;5;28;01mif\u001b[39;00m chunksize \u001b[38;5;129;01mor\u001b[39;00m iterator:\n\u001b[0;32m    614\u001b[0m     \u001b[38;5;28;01mreturn\u001b[39;00m parser\n",
      "File \u001b[1;32m~\\anaconda3\\Lib\\site-packages\\pandas\\io\\parsers\\readers.py:1448\u001b[0m, in \u001b[0;36mTextFileReader.__init__\u001b[1;34m(self, f, engine, **kwds)\u001b[0m\n\u001b[0;32m   1445\u001b[0m     \u001b[38;5;28mself\u001b[39m\u001b[38;5;241m.\u001b[39moptions[\u001b[38;5;124m\"\u001b[39m\u001b[38;5;124mhas_index_names\u001b[39m\u001b[38;5;124m\"\u001b[39m] \u001b[38;5;241m=\u001b[39m kwds[\u001b[38;5;124m\"\u001b[39m\u001b[38;5;124mhas_index_names\u001b[39m\u001b[38;5;124m\"\u001b[39m]\n\u001b[0;32m   1447\u001b[0m \u001b[38;5;28mself\u001b[39m\u001b[38;5;241m.\u001b[39mhandles: IOHandles \u001b[38;5;241m|\u001b[39m \u001b[38;5;28;01mNone\u001b[39;00m \u001b[38;5;241m=\u001b[39m \u001b[38;5;28;01mNone\u001b[39;00m\n\u001b[1;32m-> 1448\u001b[0m \u001b[38;5;28mself\u001b[39m\u001b[38;5;241m.\u001b[39m_engine \u001b[38;5;241m=\u001b[39m \u001b[38;5;28mself\u001b[39m\u001b[38;5;241m.\u001b[39m_make_engine(f, \u001b[38;5;28mself\u001b[39m\u001b[38;5;241m.\u001b[39mengine)\n",
      "File \u001b[1;32m~\\anaconda3\\Lib\\site-packages\\pandas\\io\\parsers\\readers.py:1705\u001b[0m, in \u001b[0;36mTextFileReader._make_engine\u001b[1;34m(self, f, engine)\u001b[0m\n\u001b[0;32m   1703\u001b[0m     \u001b[38;5;28;01mif\u001b[39;00m \u001b[38;5;124m\"\u001b[39m\u001b[38;5;124mb\u001b[39m\u001b[38;5;124m\"\u001b[39m \u001b[38;5;129;01mnot\u001b[39;00m \u001b[38;5;129;01min\u001b[39;00m mode:\n\u001b[0;32m   1704\u001b[0m         mode \u001b[38;5;241m+\u001b[39m\u001b[38;5;241m=\u001b[39m \u001b[38;5;124m\"\u001b[39m\u001b[38;5;124mb\u001b[39m\u001b[38;5;124m\"\u001b[39m\n\u001b[1;32m-> 1705\u001b[0m \u001b[38;5;28mself\u001b[39m\u001b[38;5;241m.\u001b[39mhandles \u001b[38;5;241m=\u001b[39m get_handle(\n\u001b[0;32m   1706\u001b[0m     f,\n\u001b[0;32m   1707\u001b[0m     mode,\n\u001b[0;32m   1708\u001b[0m     encoding\u001b[38;5;241m=\u001b[39m\u001b[38;5;28mself\u001b[39m\u001b[38;5;241m.\u001b[39moptions\u001b[38;5;241m.\u001b[39mget(\u001b[38;5;124m\"\u001b[39m\u001b[38;5;124mencoding\u001b[39m\u001b[38;5;124m\"\u001b[39m, \u001b[38;5;28;01mNone\u001b[39;00m),\n\u001b[0;32m   1709\u001b[0m     compression\u001b[38;5;241m=\u001b[39m\u001b[38;5;28mself\u001b[39m\u001b[38;5;241m.\u001b[39moptions\u001b[38;5;241m.\u001b[39mget(\u001b[38;5;124m\"\u001b[39m\u001b[38;5;124mcompression\u001b[39m\u001b[38;5;124m\"\u001b[39m, \u001b[38;5;28;01mNone\u001b[39;00m),\n\u001b[0;32m   1710\u001b[0m     memory_map\u001b[38;5;241m=\u001b[39m\u001b[38;5;28mself\u001b[39m\u001b[38;5;241m.\u001b[39moptions\u001b[38;5;241m.\u001b[39mget(\u001b[38;5;124m\"\u001b[39m\u001b[38;5;124mmemory_map\u001b[39m\u001b[38;5;124m\"\u001b[39m, \u001b[38;5;28;01mFalse\u001b[39;00m),\n\u001b[0;32m   1711\u001b[0m     is_text\u001b[38;5;241m=\u001b[39mis_text,\n\u001b[0;32m   1712\u001b[0m     errors\u001b[38;5;241m=\u001b[39m\u001b[38;5;28mself\u001b[39m\u001b[38;5;241m.\u001b[39moptions\u001b[38;5;241m.\u001b[39mget(\u001b[38;5;124m\"\u001b[39m\u001b[38;5;124mencoding_errors\u001b[39m\u001b[38;5;124m\"\u001b[39m, \u001b[38;5;124m\"\u001b[39m\u001b[38;5;124mstrict\u001b[39m\u001b[38;5;124m\"\u001b[39m),\n\u001b[0;32m   1713\u001b[0m     storage_options\u001b[38;5;241m=\u001b[39m\u001b[38;5;28mself\u001b[39m\u001b[38;5;241m.\u001b[39moptions\u001b[38;5;241m.\u001b[39mget(\u001b[38;5;124m\"\u001b[39m\u001b[38;5;124mstorage_options\u001b[39m\u001b[38;5;124m\"\u001b[39m, \u001b[38;5;28;01mNone\u001b[39;00m),\n\u001b[0;32m   1714\u001b[0m )\n\u001b[0;32m   1715\u001b[0m \u001b[38;5;28;01massert\u001b[39;00m \u001b[38;5;28mself\u001b[39m\u001b[38;5;241m.\u001b[39mhandles \u001b[38;5;129;01mis\u001b[39;00m \u001b[38;5;129;01mnot\u001b[39;00m \u001b[38;5;28;01mNone\u001b[39;00m\n\u001b[0;32m   1716\u001b[0m f \u001b[38;5;241m=\u001b[39m \u001b[38;5;28mself\u001b[39m\u001b[38;5;241m.\u001b[39mhandles\u001b[38;5;241m.\u001b[39mhandle\n",
      "File \u001b[1;32m~\\anaconda3\\Lib\\site-packages\\pandas\\io\\common.py:863\u001b[0m, in \u001b[0;36mget_handle\u001b[1;34m(path_or_buf, mode, encoding, compression, memory_map, is_text, errors, storage_options)\u001b[0m\n\u001b[0;32m    858\u001b[0m \u001b[38;5;28;01melif\u001b[39;00m \u001b[38;5;28misinstance\u001b[39m(handle, \u001b[38;5;28mstr\u001b[39m):\n\u001b[0;32m    859\u001b[0m     \u001b[38;5;66;03m# Check whether the filename is to be opened in binary mode.\u001b[39;00m\n\u001b[0;32m    860\u001b[0m     \u001b[38;5;66;03m# Binary mode does not support 'encoding' and 'newline'.\u001b[39;00m\n\u001b[0;32m    861\u001b[0m     \u001b[38;5;28;01mif\u001b[39;00m ioargs\u001b[38;5;241m.\u001b[39mencoding \u001b[38;5;129;01mand\u001b[39;00m \u001b[38;5;124m\"\u001b[39m\u001b[38;5;124mb\u001b[39m\u001b[38;5;124m\"\u001b[39m \u001b[38;5;129;01mnot\u001b[39;00m \u001b[38;5;129;01min\u001b[39;00m ioargs\u001b[38;5;241m.\u001b[39mmode:\n\u001b[0;32m    862\u001b[0m         \u001b[38;5;66;03m# Encoding\u001b[39;00m\n\u001b[1;32m--> 863\u001b[0m         handle \u001b[38;5;241m=\u001b[39m \u001b[38;5;28mopen\u001b[39m(\n\u001b[0;32m    864\u001b[0m             handle,\n\u001b[0;32m    865\u001b[0m             ioargs\u001b[38;5;241m.\u001b[39mmode,\n\u001b[0;32m    866\u001b[0m             encoding\u001b[38;5;241m=\u001b[39mioargs\u001b[38;5;241m.\u001b[39mencoding,\n\u001b[0;32m    867\u001b[0m             errors\u001b[38;5;241m=\u001b[39merrors,\n\u001b[0;32m    868\u001b[0m             newline\u001b[38;5;241m=\u001b[39m\u001b[38;5;124m\"\u001b[39m\u001b[38;5;124m\"\u001b[39m,\n\u001b[0;32m    869\u001b[0m         )\n\u001b[0;32m    870\u001b[0m     \u001b[38;5;28;01melse\u001b[39;00m:\n\u001b[0;32m    871\u001b[0m         \u001b[38;5;66;03m# Binary mode\u001b[39;00m\n\u001b[0;32m    872\u001b[0m         handle \u001b[38;5;241m=\u001b[39m \u001b[38;5;28mopen\u001b[39m(handle, ioargs\u001b[38;5;241m.\u001b[39mmode)\n",
      "\u001b[1;31mFileNotFoundError\u001b[0m: [Errno 2] No such file or directory: 'D:/cars_data_clean_CASE.csv'"
     ]
    }
   ],
   "source": [
    "# CAR Case Study\n",
    "\n",
    "import pandas as pd\n",
    "import numpy as np\n",
    "df=pd.read_csv(\"D:/cars_data_clean_CASE.csv\")\n",
    "df.head()"
   ]
  },
  {
   "cell_type": "code",
   "execution_count": null,
   "id": "c206d82e-e85e-4ab5-b5bb-0cb0c1f22932",
   "metadata": {},
   "outputs": [],
   "source": [
    "df"
   ]
  },
  {
   "cell_type": "code",
   "execution_count": null,
   "id": "af11add6-4f0a-4ad3-bad7-b0ec57d7d395",
   "metadata": {},
   "outputs": [],
   "source": [
    "#let, listed_price as x\n",
    "#let, km as y\n",
    "\n",
    "beta_1,beta_0 = np.polyfit(df[\"listed_price\"],df[\"km\"],1)\n",
    "beta_1"
   ]
  },
  {
   "cell_type": "code",
   "execution_count": null,
   "id": "a152c779-dffb-4913-9d1c-a5b3d9ad5650",
   "metadata": {},
   "outputs": [],
   "source": [
    "beta_0"
   ]
  },
  {
   "cell_type": "code",
   "execution_count": null,
   "id": "579e926c-e966-4bdb-ae60-4316929bfba3",
   "metadata": {},
   "outputs": [],
   "source": [
    "plt.scatter(df[\"listed_price\"],df[\"km\"],color=\"blue\")\n",
    "plt.plot(df[\"listed_price\"],-293 + 75.57 * df[\"listed_price\"],color=\"red\",linestyle=\"-\",linewidth=2)\n",
    "plt.show()"
   ]
  },
  {
   "cell_type": "code",
   "execution_count": null,
   "id": "64f2a81a-9b2d-4634-af9a-2bb986c6f3d5",
   "metadata": {},
   "outputs": [],
   "source": [
    "df[\"Predicted_km\"] = beta_0 + beta_1 * df[\"listed_price\"]\n",
    "df[\"error\"] = df[\"km\"] - df[\"Predicted_km\"]\n",
    "df[\"rel_Error\"] = df[\"error\"] / df[\"km\"]\n",
    "df[\"Abs\"] = df[\"rel_Error\"].abs()\n",
    "df.head()"
   ]
  },
  {
   "cell_type": "code",
   "execution_count": null,
   "id": "f6702999-b996-4c1e-83c0-133579ca8cf4",
   "metadata": {},
   "outputs": [],
   "source": [
    "Mape = df[\"Abs\"].mean() * 100\n",
    "Mape"
   ]
  },
  {
   "cell_type": "code",
   "execution_count": null,
   "id": "f48a6dde-f93a-439c-bcba-a64258467f71",
   "metadata": {},
   "outputs": [],
   "source": [
    "Mean = df[\"km\"].mean()\n",
    "Mean"
   ]
  },
  {
   "cell_type": "code",
   "execution_count": null,
   "id": "30d2b605-c5a0-422e-a3f0-e058926238cc",
   "metadata": {},
   "outputs": [],
   "source": [
    "df['diff'] = df[\"km\"] - Mean\n",
    "df['diff_sq'] = df['diff'] * df['diff']\n",
    "df['diff1'] = df[\"km\"] - df['Predicted_km']\n",
    "df['diff1_sq'] = df['diff1'] * df['diff1']\n",
    "df.head()"
   ]
  },
  {
   "cell_type": "code",
   "execution_count": null,
   "id": "000520c2-d1c1-4639-982e-8e6b58650127",
   "metadata": {},
   "outputs": [],
   "source": [
    "S1 = df['diff_sq'].sum()\n",
    "S1"
   ]
  },
  {
   "cell_type": "code",
   "execution_count": null,
   "id": "38f18f2b-65a2-47aa-97d1-ba9b9b2b5e13",
   "metadata": {},
   "outputs": [],
   "source": [
    "S2 = df['diff1_sq'].sum()\n",
    "S2"
   ]
  },
  {
   "cell_type": "code",
   "execution_count": null,
   "id": "128b6c99-9de3-4d71-ac3c-6b4eb7fb2da2",
   "metadata": {},
   "outputs": [],
   "source": [
    "R_2 = 1 - (S2/S1)\n",
    "R_2"
   ]
  },
  {
   "cell_type": "code",
   "execution_count": null,
   "id": "af90558c-bc0f-4198-aac5-cd8bda97d75f",
   "metadata": {},
   "outputs": [],
   "source": [
    "ad_r2 = 1 - (((1 - R_2)*(26428-1)) / (26428 - 1 - 1))\n",
    "ad_r2"
   ]
  },
  {
   "cell_type": "code",
   "execution_count": null,
   "id": "35cda46a-182a-4372-9106-900e7208ad43",
   "metadata": {},
   "outputs": [],
   "source": [
    "=IF(D2=D2|D9/D3|D4|D24,negative),IF(D2=D23|D38|D35|D51|D58|D8|D59|D22|D44,positive,negative)"
   ]
  }
 ],
 "metadata": {
  "kernelspec": {
   "display_name": "Python 3 (ipykernel)",
   "language": "python",
   "name": "python3"
  },
  "language_info": {
   "codemirror_mode": {
    "name": "ipython",
    "version": 3
   },
   "file_extension": ".py",
   "mimetype": "text/x-python",
   "name": "python",
   "nbconvert_exporter": "python",
   "pygments_lexer": "ipython3",
   "version": "3.11.7"
  },
  "widgets": {
   "application/vnd.jupyter.widget-state+json": {
    "state": {},
    "version_major": 2,
    "version_minor": 0
   }
  }
 },
 "nbformat": 4,
 "nbformat_minor": 5
}
